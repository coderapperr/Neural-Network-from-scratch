{
 "cells": [
  {
   "cell_type": "code",
   "execution_count": 1,
   "metadata": {},
   "outputs": [],
   "source": [
    "import numpy as np\n",
    "import scipy.special"
   ]
  },
  {
   "cell_type": "code",
   "execution_count": 5,
   "metadata": {},
   "outputs": [],
   "source": [
    "#Neural Network class definition\n",
    "class NeuralNetwork:\n",
    "    #Initialize the neural network\n",
    "    def __init__(self, inputNodes, hiddenNodes, outputNodes, learningRate):\n",
    "        #Initialize the number input nodes, hidden nodes, output nodes and learning rate\n",
    "        self.inodes = inputNodes\n",
    "        self.hnodes = hiddenNodes\n",
    "        self.onodes = outputNodes\n",
    "        \n",
    "        #Initaializing the weights of the neural network\n",
    "        #Weights of the connections between the input layer and the hidden layer \n",
    "        self.wih = np.random.normal(0.0, pow(self.hnodes, -0.5), (self.hnodes, self.inodes))\n",
    "        \n",
    "        #Weights of the connections between the hidden layer and output layer\n",
    "        self.who = np.random.normal(0.0 , pow(self.onodes, -0.5), (self.onodes, self.hnodes))\n",
    "        \n",
    "        #Learning rate \n",
    "        self.lr = learningRate\n",
    "        \n",
    "        #Activation function\n",
    "        self.activation_fn = lambda x : scipy.special.expit(x)\n",
    "    \n",
    "    #Train the neural network\n",
    "    def train(self, input_list, target_list):\n",
    "        #Convert inputs into 2d array\n",
    "        inputs = np.array(input_list, 2).T\n",
    "        targets = np.array(target_list, 2).T\n",
    "        \n",
    "        #Calculating the inputs to the hidden layer\n",
    "        hidden_inputs = np.dot(self.wih, inputs)\n",
    "        \n",
    "        #Calculating the output of the hidden layer\n",
    "        hidden_outputs = self.activation_fn(hidden_inputs)\n",
    "        \n",
    "        #Calcualting the inputs to the final layer\n",
    "        final_inputs = np.dot(self.who, hidden_outputs)\n",
    "        \n",
    "        #Calculating the outputs of the final layer \n",
    "        final_outputs = self.activation_fn(final_inputs)\n",
    "        \n",
    "        #Error of the final layer\n",
    "        output_errors = targets - final_outputs\n",
    "        \n",
    "        #Hidden layer errors is the final layer errors split by the weights\n",
    "        hidden_errors = np.dot(self.who.T, output_errors)\n",
    "        \n",
    "        #Updating the weights\n",
    "        self.who += self.lr * np.dot((output_errors * final_outputs * (1.0 - final_outputs)), np.transpose(hidden_outputs))\n",
    "        self.wih += self.lr * np.dot((hidden_errors * hidden_outputs * (1.0 - hidden_outputs)), np.transpose(inputs))\n",
    "\n",
    "    #Query the neural network\n",
    "    def query():\n",
    "        inputs = np.array(input_list, 2).T\n",
    "        \n",
    "        #Calculating the inputs to the hidden layer\n",
    "        hidden_inputs = np.dot(self.wih, inputs)\n",
    "        \n",
    "        #Calculating the output of the hidden layer\n",
    "        hidden_outputs = self.activation_fn(hidden_inputs)\n",
    "        \n",
    "        #Calcualting the inputs to the final layer\n",
    "        final_inputs = np.dot(self.who, hidden_outputs)\n",
    "        \n",
    "        #Calculating the outputs of the final layer \n",
    "        final_outputs = self.activation_fn(final_inputs)\n",
    "        \n",
    "        return final_outputs\n",
    "        \n",
    "    "
   ]
  },
  {
   "cell_type": "code",
   "execution_count": 6,
   "metadata": {},
   "outputs": [],
   "source": [
    "input_nodes = 3\n",
    "hidden_nodes = 3\n",
    "output_nodes = 3\n",
    "\n",
    "lr = 0.3\n",
    "\n",
    "nn = NeuralNetwork(input_nodes, hidden_nodes, output_nodes, lr)"
   ]
  }
 ],
 "metadata": {
  "kernelspec": {
   "display_name": "Python 3",
   "language": "python",
   "name": "python3"
  },
  "language_info": {
   "codemirror_mode": {
    "name": "ipython",
    "version": 3
   },
   "file_extension": ".py",
   "mimetype": "text/x-python",
   "name": "python",
   "nbconvert_exporter": "python",
   "pygments_lexer": "ipython3",
   "version": "3.7.3"
  }
 },
 "nbformat": 4,
 "nbformat_minor": 2
}
